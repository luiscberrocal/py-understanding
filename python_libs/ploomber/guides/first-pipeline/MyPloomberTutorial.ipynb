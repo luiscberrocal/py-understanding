{
 "cells": [
  {
   "cell_type": "code",
   "execution_count": 1,
   "id": "10b532c6-3168-4608-b33d-01ef9362bdc5",
   "metadata": {},
   "outputs": [
    {
     "name": "stdout",
     "output_type": "stream",
     "text": [
      "Loading pipeline...\n"
     ]
    },
    {
     "name": "stderr",
     "output_type": "stream",
     "text": [
      "100%|██████████| 5/5 [00:00<00:00, 18774.86it/s]\n"
     ]
    },
    {
     "name": "stdout",
     "output_type": "stream",
     "text": [
      "Plot saved at: pipeline.html\n"
     ]
    }
   ],
   "source": [
    "%%bash\n",
    "ploomber plot"
   ]
  },
  {
   "cell_type": "code",
   "execution_count": 1,
   "id": "f78a6241-c965-4787-9233-12d1a252a18b",
   "metadata": {},
   "outputs": [
    {
     "name": "stdout",
     "output_type": "stream",
     "text": [
      "Loading pipeline...\n"
     ]
    },
    {
     "name": "stderr",
     "output_type": "stream",
     "text": [
      "Building task '3-clean':   0%|          | 0/3 [00:00<?, ?it/s]\n",
      "Executing:   0%|          | 0/9 [00:00<?, ?cell/s]\n",
      "Executing:  11%|█         | 1/9 [00:01<00:08,  1.10s/cell]\n",
      "Executing: 100%|██████████| 9/9 [00:01<00:00,  6.33cell/s]\n",
      "Building task '4-profile-clean':  33%|███▎      | 1/3 [00:01<00:03,  1.87s/it]\n",
      "Executing:   0%|          | 0/7 [00:00<?, ?cell/s]\n",
      "Executing:  14%|█▍        | 1/7 [00:00<00:04,  1.49cell/s]\n",
      "Executing:  43%|████▎     | 3/7 [00:01<00:01,  2.58cell/s]\n",
      "Executing:  71%|███████▏  | 5/7 [00:01<00:00,  3.29cell/s]\n",
      "Executing:  86%|████████▌ | 6/7 [00:01<00:00,  3.63cell/s]\n",
      "Executing: 100%|██████████| 7/7 [00:02<00:00,  2.94cell/s]\n",
      "Building task '5-plot':  67%|██████▋   | 2/3 [00:04<00:02,  2.40s/it]         \n",
      "Executing:   0%|          | 0/8 [00:00<?, ?cell/s]\n",
      "Executing:  12%|█▎        | 1/8 [00:01<00:08,  1.24s/cell]\n",
      "Executing:  62%|██████▎   | 5/8 [00:01<00:00,  3.94cell/s]\n",
      "Executing:  75%|███████▌  | 6/8 [00:03<00:01,  1.86cell/s]\n",
      "Executing: 100%|██████████| 8/8 [00:04<00:00,  1.69cell/s]\n",
      "Building task '5-plot': 100%|██████████| 3/3 [00:09<00:00,  3.25s/it]\n"
     ]
    },
    {
     "name": "stdout",
     "output_type": "stream",
     "text": [
      "name             Ran?      Elapsed (s)    Percentage\n",
      "---------------  ------  -------------  ------------\n",
      "3-clean          True          1.86632       19.1542\n",
      "4-profile-clean  True          2.77128       28.4419\n",
      "5-plot           True          5.10604       52.4038\n",
      "1-get            False         0              0\n",
      "2-profile-raw    False         0              0\n"
     ]
    }
   ],
   "source": [
    "%%bash\n",
    "ploomber build"
   ]
  },
  {
   "cell_type": "code",
   "execution_count": null,
   "id": "bfbf53c8-d141-4d64-bf00-16f6cb593e87",
   "metadata": {},
   "outputs": [],
   "source": []
  }
 ],
 "metadata": {
  "kernelspec": {
   "display_name": "Python 3 (ipykernel)",
   "language": "python",
   "name": "python3"
  },
  "language_info": {
   "codemirror_mode": {
    "name": "ipython",
    "version": 3
   },
   "file_extension": ".py",
   "mimetype": "text/x-python",
   "name": "python",
   "nbconvert_exporter": "python",
   "pygments_lexer": "ipython3",
   "version": "3.8.17"
  }
 },
 "nbformat": 4,
 "nbformat_minor": 5
}
