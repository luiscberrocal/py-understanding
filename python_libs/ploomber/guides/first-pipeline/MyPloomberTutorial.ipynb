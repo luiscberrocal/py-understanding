{
 "cells": [
  {
   "cell_type": "code",
   "execution_count": 1,
   "id": "10b532c6-3168-4608-b33d-01ef9362bdc5",
   "metadata": {},
   "outputs": [
    {
     "name": "stdout",
     "output_type": "stream",
     "text": [
      "Loading pipeline...\n"
     ]
    },
    {
     "name": "stderr",
     "output_type": "stream",
     "text": [
      "100%|██████████| 5/5 [00:00<00:00, 18774.86it/s]\n"
     ]
    },
    {
     "name": "stdout",
     "output_type": "stream",
     "text": [
      "Plot saved at: pipeline.html\n"
     ]
    }
   ],
   "source": [
    "%%bash\n",
    "ploomber plot"
   ]
  },
  {
   "cell_type": "code",
   "execution_count": 3,
   "id": "f78a6241-c965-4787-9233-12d1a252a18b",
   "metadata": {},
   "outputs": [
    {
     "name": "stdout",
     "output_type": "stream",
     "text": [
      "Loading pipeline...\n"
     ]
    },
    {
     "name": "stderr",
     "output_type": "stream",
     "text": [
      "Building task '1-get':   0%|          | 0/5 [00:00<?, ?it/s]\n",
      "Executing:   0%|          | 0/6 [00:00<?, ?cell/s]\n",
      "Executing:  17%|█▋        | 1/6 [00:01<00:05,  1.00s/cell]\n",
      "Executing: 100%|██████████| 6/6 [00:01<00:00,  3.36cell/s]\n",
      "Building task '2-profile-raw':  20%|██        | 1/5 [00:02<00:08,  2.18s/it]\n",
      "Executing:   0%|          | 0/7 [00:00<?, ?cell/s]\n",
      "Executing:  14%|█▍        | 1/7 [00:00<00:05,  1.15cell/s]\n",
      "Executing:  43%|████▎     | 3/7 [00:01<00:01,  2.02cell/s]\n",
      "Building task '3-clean':  40%|████      | 2/5 [00:03<00:05,  1.78s/it]      \n",
      "Executing:   0%|          | 0/9 [00:00<?, ?cell/s]\n",
      "Executing:  11%|█         | 1/9 [00:00<00:06,  1.15cell/s]\n",
      "Executing: 100%|██████████| 9/9 [00:01<00:00,  5.02cell/s]\n",
      "Building task '3-clean': 100%|██████████| 5/5 [00:05<00:00,  1.10s/it]\n",
      "\n",
      "=============================== DAG build failed ===============================\n",
      "------ NotebookRunner: 2-profile-raw -> File('output/2-profile-raw.html') ------\n",
      "- /home/luiscberrocal/PycharmProjects/py-understanding/python_libs/ploomber/guides/first-pipeline/2-profile-raw.py -\n",
      "---------------------------------------------------------------------------\n",
      "Exception encountered at \"In [3]\":\n",
      "---------------------------------------------------------------------------\n",
      "ModuleNotFoundError                       Traceback (most recent call last)\n",
      "Cell In[3], line 2\n",
      "      1 import pandas as pd\n",
      "----> 2 import seaborn as sns\n",
      "\n",
      "ModuleNotFoundError: No module named 'seaborn'\n",
      "\n",
      "ploomber.exceptions.TaskBuildError: Error when executing task '2-profile-raw'. Partially executed notebook available at /home/luiscberrocal/PycharmProjects/py-understanding/python_libs/ploomber/guides/first-pipeline/output/2-profile-raw.ipynb\n",
      "ploomber.exceptions.TaskBuildError: Error building task \"2-profile-raw\"\n",
      "- NotebookRunner: 3-clean -> MetaProduct({'data': File('output/...data.parquet'), 'nb': File('output/3-clean.html')}) -\n",
      "- /home/luiscberrocal/PycharmProjects/py-understanding/python_libs/ploomber/guides/first-pipeline/3-clean.py -\n",
      "---------------------------------------------------------------------------\n",
      "Exception encountered at \"In [9]\":\n",
      "---------------------------------------------------------------------------\n",
      "ImportError                               Traceback (most recent call last)\n",
      "Cell In[9], line 2\n",
      "      1 # Save final df\n",
      "----> 2 df.to_parquet(str(product['data']), index=False)\n",
      "\n",
      "File ~/PycharmProjects/py-understanding/venv/lib/python3.10/site-packages/pandas/core/frame.py:2973, in DataFrame.to_parquet(self, path, engine, compression, index, partition_cols, storage_options, **kwargs)\n",
      "   2885 \"\"\"\n",
      "   2886 Write a DataFrame to the binary parquet format.\n",
      "   2887 \n",
      "   (...)\n",
      "   2969 >>> content = f.read()\n",
      "   2970 \"\"\"\n",
      "   2971 from pandas.io.parquet import to_parquet\n",
      "-> 2973 return to_parquet(\n",
      "   2974     self,\n",
      "   2975     path,\n",
      "   2976     engine,\n",
      "   2977     compression=compression,\n",
      "   2978     index=index,\n",
      "   2979     partition_cols=partition_cols,\n",
      "   2980     storage_options=storage_options,\n",
      "   2981     **kwargs,\n",
      "   2982 )\n",
      "\n",
      "File ~/PycharmProjects/py-understanding/venv/lib/python3.10/site-packages/pandas/io/parquet.py:479, in to_parquet(df, path, engine, compression, index, storage_options, partition_cols, filesystem, **kwargs)\n",
      "    477 if isinstance(partition_cols, str):\n",
      "    478     partition_cols = [partition_cols]\n",
      "--> 479 impl = get_engine(engine)\n",
      "    481 path_or_buf: FilePath | WriteBuffer[bytes] = io.BytesIO() if path is None else path\n",
      "    483 impl.write(\n",
      "    484     df,\n",
      "    485     path_or_buf,\n",
      "   (...)\n",
      "    491     **kwargs,\n",
      "    492 )\n",
      "\n",
      "File ~/PycharmProjects/py-understanding/venv/lib/python3.10/site-packages/pandas/io/parquet.py:66, in get_engine(engine)\n",
      "     63         except ImportError as err:\n",
      "     64             error_msgs += \"\\n - \" + str(err)\n",
      "---> 66     raise ImportError(\n",
      "     67         \"Unable to find a usable engine; \"\n",
      "     68         \"tried using: 'pyarrow', 'fastparquet'.\\n\"\n",
      "     69         \"A suitable version of \"\n",
      "     70         \"pyarrow or fastparquet is required for parquet \"\n",
      "     71         \"support.\\n\"\n",
      "     72         \"Trying to import the above resulted in these errors:\"\n",
      "     73         f\"{error_msgs}\"\n",
      "     74     )\n",
      "     76 if engine == \"pyarrow\":\n",
      "     77     return PyArrowImpl()\n",
      "\n",
      "ImportError: Unable to find a usable engine; tried using: 'pyarrow', 'fastparquet'.\n",
      "A suitable version of pyarrow or fastparquet is required for parquet support.\n",
      "Trying to import the above resulted in these errors:\n",
      " - Missing optional dependency 'pyarrow'. pyarrow is required for parquet support. Use pip or conda to install pyarrow.\n",
      " - Missing optional dependency 'fastparquet'. fastparquet is required for parquet support. Use pip or conda to install fastparquet.\n",
      "\n",
      "ploomber.exceptions.TaskBuildError: Error when executing task '3-clean'. Partially executed notebook available at /home/luiscberrocal/PycharmProjects/py-understanding/python_libs/ploomber/guides/first-pipeline/output/3-clean.ipynb\n",
      "ploomber.exceptions.TaskBuildError: Error building task \"3-clean\"\n",
      "============================== Summary (2 tasks) ===============================\n",
      "NotebookRunner: 2-profile-raw -> File('output/2-profile-raw.html')\n",
      "NotebookRunner: 3-clean -> MetaProduct({'data': File('output/...data.parquet'), 'nb': File('output/3-clean.html')})\n",
      "=============================== DAG build failed ===============================\n",
      "\n",
      "Need help? https://ploomber.io/community\n"
     ]
    },
    {
     "ename": "CalledProcessError",
     "evalue": "Command 'b'ploomber build\\n'' returned non-zero exit status 1.",
     "output_type": "error",
     "traceback": [
      "\u001b[0;31m---------------------------------------------------------------------------\u001b[0m",
      "\u001b[0;31mCalledProcessError\u001b[0m                        Traceback (most recent call last)",
      "Cell \u001b[0;32mIn[3], line 1\u001b[0m\n\u001b[0;32m----> 1\u001b[0m \u001b[43mget_ipython\u001b[49m\u001b[43m(\u001b[49m\u001b[43m)\u001b[49m\u001b[38;5;241;43m.\u001b[39;49m\u001b[43mrun_cell_magic\u001b[49m\u001b[43m(\u001b[49m\u001b[38;5;124;43m'\u001b[39;49m\u001b[38;5;124;43mbash\u001b[39;49m\u001b[38;5;124;43m'\u001b[39;49m\u001b[43m,\u001b[49m\u001b[43m \u001b[49m\u001b[38;5;124;43m'\u001b[39;49m\u001b[38;5;124;43m'\u001b[39;49m\u001b[43m,\u001b[49m\u001b[43m \u001b[49m\u001b[38;5;124;43m'\u001b[39;49m\u001b[38;5;124;43mploomber build\u001b[39;49m\u001b[38;5;130;43;01m\\n\u001b[39;49;00m\u001b[38;5;124;43m'\u001b[39;49m\u001b[43m)\u001b[49m\n",
      "File \u001b[0;32m~/.config/jupyterlab-desktop/jlab_server/lib/python3.8/site-packages/IPython/core/interactiveshell.py:2475\u001b[0m, in \u001b[0;36mInteractiveShell.run_cell_magic\u001b[0;34m(self, magic_name, line, cell)\u001b[0m\n\u001b[1;32m   2473\u001b[0m \u001b[38;5;28;01mwith\u001b[39;00m \u001b[38;5;28mself\u001b[39m\u001b[38;5;241m.\u001b[39mbuiltin_trap:\n\u001b[1;32m   2474\u001b[0m     args \u001b[38;5;241m=\u001b[39m (magic_arg_s, cell)\n\u001b[0;32m-> 2475\u001b[0m     result \u001b[38;5;241m=\u001b[39m \u001b[43mfn\u001b[49m\u001b[43m(\u001b[49m\u001b[38;5;241;43m*\u001b[39;49m\u001b[43margs\u001b[49m\u001b[43m,\u001b[49m\u001b[43m \u001b[49m\u001b[38;5;241;43m*\u001b[39;49m\u001b[38;5;241;43m*\u001b[39;49m\u001b[43mkwargs\u001b[49m\u001b[43m)\u001b[49m\n\u001b[1;32m   2477\u001b[0m \u001b[38;5;66;03m# The code below prevents the output from being displayed\u001b[39;00m\n\u001b[1;32m   2478\u001b[0m \u001b[38;5;66;03m# when using magics with decodator @output_can_be_silenced\u001b[39;00m\n\u001b[1;32m   2479\u001b[0m \u001b[38;5;66;03m# when the last Python token in the expression is a ';'.\u001b[39;00m\n\u001b[1;32m   2480\u001b[0m \u001b[38;5;28;01mif\u001b[39;00m \u001b[38;5;28mgetattr\u001b[39m(fn, magic\u001b[38;5;241m.\u001b[39mMAGIC_OUTPUT_CAN_BE_SILENCED, \u001b[38;5;28;01mFalse\u001b[39;00m):\n",
      "File \u001b[0;32m~/.config/jupyterlab-desktop/jlab_server/lib/python3.8/site-packages/IPython/core/magics/script.py:153\u001b[0m, in \u001b[0;36mScriptMagics._make_script_magic.<locals>.named_script_magic\u001b[0;34m(line, cell)\u001b[0m\n\u001b[1;32m    151\u001b[0m \u001b[38;5;28;01melse\u001b[39;00m:\n\u001b[1;32m    152\u001b[0m     line \u001b[38;5;241m=\u001b[39m script\n\u001b[0;32m--> 153\u001b[0m \u001b[38;5;28;01mreturn\u001b[39;00m \u001b[38;5;28;43mself\u001b[39;49m\u001b[38;5;241;43m.\u001b[39;49m\u001b[43mshebang\u001b[49m\u001b[43m(\u001b[49m\u001b[43mline\u001b[49m\u001b[43m,\u001b[49m\u001b[43m \u001b[49m\u001b[43mcell\u001b[49m\u001b[43m)\u001b[49m\n",
      "File \u001b[0;32m~/.config/jupyterlab-desktop/jlab_server/lib/python3.8/site-packages/IPython/core/magics/script.py:305\u001b[0m, in \u001b[0;36mScriptMagics.shebang\u001b[0;34m(self, line, cell)\u001b[0m\n\u001b[1;32m    300\u001b[0m \u001b[38;5;28;01mif\u001b[39;00m args\u001b[38;5;241m.\u001b[39mraise_error \u001b[38;5;129;01mand\u001b[39;00m p\u001b[38;5;241m.\u001b[39mreturncode \u001b[38;5;241m!=\u001b[39m \u001b[38;5;241m0\u001b[39m:\n\u001b[1;32m    301\u001b[0m     \u001b[38;5;66;03m# If we get here and p.returncode is still None, we must have\u001b[39;00m\n\u001b[1;32m    302\u001b[0m     \u001b[38;5;66;03m# killed it but not yet seen its return code. We don't wait for it,\u001b[39;00m\n\u001b[1;32m    303\u001b[0m     \u001b[38;5;66;03m# in case it's stuck in uninterruptible sleep. -9 = SIGKILL\u001b[39;00m\n\u001b[1;32m    304\u001b[0m     rc \u001b[38;5;241m=\u001b[39m p\u001b[38;5;241m.\u001b[39mreturncode \u001b[38;5;129;01mor\u001b[39;00m \u001b[38;5;241m-\u001b[39m\u001b[38;5;241m9\u001b[39m\n\u001b[0;32m--> 305\u001b[0m     \u001b[38;5;28;01mraise\u001b[39;00m CalledProcessError(rc, cell)\n",
      "\u001b[0;31mCalledProcessError\u001b[0m: Command 'b'ploomber build\\n'' returned non-zero exit status 1."
     ]
    }
   ],
   "source": [
    "%%bash\n",
    "ploomber build"
   ]
  },
  {
   "cell_type": "code",
   "execution_count": null,
   "id": "bfbf53c8-d141-4d64-bf00-16f6cb593e87",
   "metadata": {},
   "outputs": [],
   "source": []
  }
 ],
 "metadata": {
  "kernelspec": {
   "display_name": "Python 3 (ipykernel)",
   "language": "python",
   "name": "python3"
  },
  "language_info": {
   "codemirror_mode": {
    "name": "ipython",
    "version": 3
   },
   "file_extension": ".py",
   "mimetype": "text/x-python",
   "name": "python",
   "nbconvert_exporter": "python",
   "pygments_lexer": "ipython3",
   "version": "3.8.17"
  }
 },
 "nbformat": 4,
 "nbformat_minor": 5
}
