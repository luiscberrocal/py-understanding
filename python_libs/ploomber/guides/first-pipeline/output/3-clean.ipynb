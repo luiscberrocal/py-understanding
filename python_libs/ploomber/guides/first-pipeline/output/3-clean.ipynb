{
 "cells": [
  {
   "cell_type": "markdown",
   "id": "3c655612",
   "metadata": {
    "tags": [
     "papermill-error-cell-tag"
    ]
   },
   "source": [
    "<span style=\"color:red; font-family:Helvetica Neue, Helvetica, Arial, sans-serif; font-size:2em;\">An Exception was encountered at '<a href=\"#papermill-error-cell\">In [9]</a>'.</span>"
   ]
  },
  {
   "cell_type": "code",
   "execution_count": 1,
   "id": "c584c0cc",
   "metadata": {
    "execution": {
     "iopub.execute_input": "2023-09-19T12:04:06.679483Z",
     "iopub.status.busy": "2023-09-19T12:04:06.679189Z",
     "iopub.status.idle": "2023-09-19T12:04:06.917031Z",
     "shell.execute_reply": "2023-09-19T12:04:06.916587Z"
    },
    "papermill": {
     "duration": 0.241723,
     "end_time": "2023-09-19T12:04:06.918442",
     "exception": false,
     "start_time": "2023-09-19T12:04:06.676719",
     "status": "completed"
    },
    "tags": []
   },
   "outputs": [],
   "source": [
    "\"\"\"\n",
    "Clean\n",
    "\"\"\"\n",
    "import pandas as pd"
   ]
  },
  {
   "cell_type": "code",
   "execution_count": 2,
   "id": "76862c2d",
   "metadata": {
    "execution": {
     "iopub.execute_input": "2023-09-19T12:04:06.931277Z",
     "iopub.status.busy": "2023-09-19T12:04:06.930663Z",
     "iopub.status.idle": "2023-09-19T12:04:06.933878Z",
     "shell.execute_reply": "2023-09-19T12:04:06.933349Z"
    },
    "papermill": {
     "duration": 0.015007,
     "end_time": "2023-09-19T12:04:06.935024",
     "exception": false,
     "start_time": "2023-09-19T12:04:06.920017",
     "status": "completed"
    },
    "tags": [
     "parameters"
    ]
   },
   "outputs": [],
   "source": [
    "upstream = ['1-get']\n",
    "product = None"
   ]
  },
  {
   "cell_type": "code",
   "execution_count": 3,
   "id": "c79e07f9",
   "metadata": {
    "execution": {
     "iopub.execute_input": "2023-09-19T12:04:06.938781Z",
     "iopub.status.busy": "2023-09-19T12:04:06.938364Z",
     "iopub.status.idle": "2023-09-19T12:04:06.941574Z",
     "shell.execute_reply": "2023-09-19T12:04:06.941135Z"
    },
    "papermill": {
     "duration": 0.006006,
     "end_time": "2023-09-19T12:04:06.942425",
     "exception": false,
     "start_time": "2023-09-19T12:04:06.936419",
     "status": "completed"
    },
    "tags": [
     "injected-parameters"
    ]
   },
   "outputs": [],
   "source": [
    "# Parameters\n",
    "upstream = {\"1-get\": {\"nb\": \"/home/luiscberrocal/PycharmProjects/py-understanding/python_libs/ploomber/guides/first-pipeline/output/1-get.html\", \"data\": \"/home/luiscberrocal/PycharmProjects/py-understanding/python_libs/ploomber/guides/first-pipeline/output/raw_data.csv\"}}\n",
    "product = {\"nb\": \"/home/luiscberrocal/PycharmProjects/py-understanding/python_libs/ploomber/guides/first-pipeline/output/3-clean.html\", \"data\": \"/home/luiscberrocal/PycharmProjects/py-understanding/python_libs/ploomber/guides/first-pipeline/output/clean_data.parquet\"}\n"
   ]
  },
  {
   "cell_type": "code",
   "execution_count": 4,
   "id": "0203414f",
   "metadata": {
    "execution": {
     "iopub.execute_input": "2023-09-19T12:04:06.945973Z",
     "iopub.status.busy": "2023-09-19T12:04:06.945543Z",
     "iopub.status.idle": "2023-09-19T12:04:06.954795Z",
     "shell.execute_reply": "2023-09-19T12:04:06.954271Z"
    },
    "papermill": {
     "duration": 0.012324,
     "end_time": "2023-09-19T12:04:06.955990",
     "exception": false,
     "start_time": "2023-09-19T12:04:06.943666",
     "status": "completed"
    },
    "tags": []
   },
   "outputs": [],
   "source": [
    "df = pd.read_csv(upstream['1-get']['data'])"
   ]
  },
  {
   "cell_type": "code",
   "execution_count": 5,
   "id": "5cd93273",
   "metadata": {
    "execution": {
     "iopub.execute_input": "2023-09-19T12:04:06.959843Z",
     "iopub.status.busy": "2023-09-19T12:04:06.959390Z",
     "iopub.status.idle": "2023-09-19T12:04:06.972769Z",
     "shell.execute_reply": "2023-09-19T12:04:06.972243Z"
    },
    "papermill": {
     "duration": 0.016685,
     "end_time": "2023-09-19T12:04:06.974008",
     "exception": false,
     "start_time": "2023-09-19T12:04:06.957323",
     "status": "completed"
    },
    "tags": []
   },
   "outputs": [
    {
     "data": {
      "text/html": [
       "<div>\n",
       "<style scoped>\n",
       "    .dataframe tbody tr th:only-of-type {\n",
       "        vertical-align: middle;\n",
       "    }\n",
       "\n",
       "    .dataframe tbody tr th {\n",
       "        vertical-align: top;\n",
       "    }\n",
       "\n",
       "    .dataframe thead th {\n",
       "        text-align: right;\n",
       "    }\n",
       "</style>\n",
       "<table border=\"1\" class=\"dataframe\">\n",
       "  <thead>\n",
       "    <tr style=\"text-align: right;\">\n",
       "      <th></th>\n",
       "      <th>date</th>\n",
       "      <th>county</th>\n",
       "      <th>state</th>\n",
       "      <th>fips</th>\n",
       "      <th>cases</th>\n",
       "      <th>deaths</th>\n",
       "    </tr>\n",
       "  </thead>\n",
       "  <tbody>\n",
       "    <tr>\n",
       "      <th>0</th>\n",
       "      <td>2023-03-24</td>\n",
       "      <td>McPherson</td>\n",
       "      <td>South Dakota</td>\n",
       "      <td>46089.0</td>\n",
       "      <td>534</td>\n",
       "      <td>16.0</td>\n",
       "    </tr>\n",
       "    <tr>\n",
       "      <th>1</th>\n",
       "      <td>2023-03-24</td>\n",
       "      <td>Meade</td>\n",
       "      <td>South Dakota</td>\n",
       "      <td>46093.0</td>\n",
       "      <td>8404</td>\n",
       "      <td>68.0</td>\n",
       "    </tr>\n",
       "    <tr>\n",
       "      <th>2</th>\n",
       "      <td>2023-03-24</td>\n",
       "      <td>Mellette</td>\n",
       "      <td>South Dakota</td>\n",
       "      <td>46095.0</td>\n",
       "      <td>654</td>\n",
       "      <td>8.0</td>\n",
       "    </tr>\n",
       "    <tr>\n",
       "      <th>3</th>\n",
       "      <td>2023-03-24</td>\n",
       "      <td>Miner</td>\n",
       "      <td>South Dakota</td>\n",
       "      <td>46097.0</td>\n",
       "      <td>542</td>\n",
       "      <td>15.0</td>\n",
       "    </tr>\n",
       "    <tr>\n",
       "      <th>4</th>\n",
       "      <td>2023-03-24</td>\n",
       "      <td>Jennings</td>\n",
       "      <td>Indiana</td>\n",
       "      <td>18079.0</td>\n",
       "      <td>8178</td>\n",
       "      <td>119.0</td>\n",
       "    </tr>\n",
       "  </tbody>\n",
       "</table>\n",
       "</div>"
      ],
      "text/plain": [
       "         date     county         state     fips  cases  deaths\n",
       "0  2023-03-24  McPherson  South Dakota  46089.0    534    16.0\n",
       "1  2023-03-24      Meade  South Dakota  46093.0   8404    68.0\n",
       "2  2023-03-24   Mellette  South Dakota  46095.0    654     8.0\n",
       "3  2023-03-24      Miner  South Dakota  46097.0    542    15.0\n",
       "4  2023-03-24   Jennings       Indiana  18079.0   8178   119.0"
      ]
     },
     "execution_count": 5,
     "metadata": {},
     "output_type": "execute_result"
    }
   ],
   "source": [
    "df.head()"
   ]
  },
  {
   "cell_type": "code",
   "execution_count": 6,
   "id": "cfb76a5a",
   "metadata": {
    "execution": {
     "iopub.execute_input": "2023-09-19T12:04:06.978425Z",
     "iopub.status.busy": "2023-09-19T12:04:06.978166Z",
     "iopub.status.idle": "2023-09-19T12:04:06.981737Z",
     "shell.execute_reply": "2023-09-19T12:04:06.981258Z"
    },
    "papermill": {
     "duration": 0.006896,
     "end_time": "2023-09-19T12:04:06.982773",
     "exception": false,
     "start_time": "2023-09-19T12:04:06.975877",
     "status": "completed"
    },
    "tags": []
   },
   "outputs": [
    {
     "data": {
      "text/plain": [
       "3257"
      ]
     },
     "execution_count": 6,
     "metadata": {},
     "output_type": "execute_result"
    }
   ],
   "source": [
    "len(df.index)"
   ]
  },
  {
   "cell_type": "code",
   "execution_count": 7,
   "id": "5f847eae",
   "metadata": {
    "execution": {
     "iopub.execute_input": "2023-09-19T12:04:06.986795Z",
     "iopub.status.busy": "2023-09-19T12:04:06.986474Z",
     "iopub.status.idle": "2023-09-19T12:04:06.991291Z",
     "shell.execute_reply": "2023-09-19T12:04:06.990848Z"
    },
    "papermill": {
     "duration": 0.007937,
     "end_time": "2023-09-19T12:04:06.992232",
     "exception": false,
     "start_time": "2023-09-19T12:04:06.984295",
     "status": "completed"
    },
    "tags": []
   },
   "outputs": [
    {
     "data": {
      "text/plain": [
       "3139"
      ]
     },
     "execution_count": 7,
     "metadata": {},
     "output_type": "execute_result"
    }
   ],
   "source": [
    "# Clean data\n",
    "df = df.dropna()\n",
    "len(df.index)"
   ]
  },
  {
   "cell_type": "code",
   "execution_count": 8,
   "id": "1c2776c7",
   "metadata": {
    "execution": {
     "iopub.execute_input": "2023-09-19T12:04:06.996500Z",
     "iopub.status.busy": "2023-09-19T12:04:06.996077Z",
     "iopub.status.idle": "2023-09-19T12:04:06.999463Z",
     "shell.execute_reply": "2023-09-19T12:04:06.999056Z"
    },
    "papermill": {
     "duration": 0.006573,
     "end_time": "2023-09-19T12:04:07.000408",
     "exception": false,
     "start_time": "2023-09-19T12:04:06.993835",
     "status": "completed"
    },
    "tags": []
   },
   "outputs": [],
   "source": [
    "# Adding columns\n",
    "df['death_percents'] = df.deaths / df.cases * 100"
   ]
  },
  {
   "cell_type": "markdown",
   "id": "0cac2b7e",
   "metadata": {
    "tags": [
     "papermill-error-cell-tag"
    ]
   },
   "source": [
    "<span id=\"papermill-error-cell\" style=\"color:red; font-family:Helvetica Neue, Helvetica, Arial, sans-serif; font-size:2em;\">Execution using papermill encountered an exception here and stopped:</span>"
   ]
  },
  {
   "cell_type": "code",
   "execution_count": 9,
   "id": "8b4d3500",
   "metadata": {
    "execution": {
     "iopub.execute_input": "2023-09-19T12:04:07.005391Z",
     "iopub.status.busy": "2023-09-19T12:04:07.004899Z",
     "iopub.status.idle": "2023-09-19T12:04:07.500481Z",
     "shell.execute_reply": "2023-09-19T12:04:07.499673Z"
    },
    "papermill": {
     "duration": 0.499377,
     "end_time": "2023-09-19T12:04:07.501364",
     "exception": true,
     "start_time": "2023-09-19T12:04:07.001987",
     "status": "failed"
    },
    "tags": []
   },
   "outputs": [
    {
     "ename": "ImportError",
     "evalue": "Unable to find a usable engine; tried using: 'pyarrow', 'fastparquet'.\nA suitable version of pyarrow or fastparquet is required for parquet support.\nTrying to import the above resulted in these errors:\n - Missing optional dependency 'pyarrow'. pyarrow is required for parquet support. Use pip or conda to install pyarrow.\n - Missing optional dependency 'fastparquet'. fastparquet is required for parquet support. Use pip or conda to install fastparquet.",
     "output_type": "error",
     "traceback": [
      "\u001b[0;31m---------------------------------------------------------------------------\u001b[0m",
      "\u001b[0;31mImportError\u001b[0m                               Traceback (most recent call last)",
      "Cell \u001b[0;32mIn[9], line 2\u001b[0m\n\u001b[1;32m      1\u001b[0m \u001b[38;5;66;03m# Save final df\u001b[39;00m\n\u001b[0;32m----> 2\u001b[0m \u001b[43mdf\u001b[49m\u001b[38;5;241;43m.\u001b[39;49m\u001b[43mto_parquet\u001b[49m\u001b[43m(\u001b[49m\u001b[38;5;28;43mstr\u001b[39;49m\u001b[43m(\u001b[49m\u001b[43mproduct\u001b[49m\u001b[43m[\u001b[49m\u001b[38;5;124;43m'\u001b[39;49m\u001b[38;5;124;43mdata\u001b[39;49m\u001b[38;5;124;43m'\u001b[39;49m\u001b[43m]\u001b[49m\u001b[43m)\u001b[49m\u001b[43m,\u001b[49m\u001b[43m \u001b[49m\u001b[43mindex\u001b[49m\u001b[38;5;241;43m=\u001b[39;49m\u001b[38;5;28;43;01mFalse\u001b[39;49;00m\u001b[43m)\u001b[49m\n",
      "File \u001b[0;32m~/PycharmProjects/py-understanding/venv/lib/python3.10/site-packages/pandas/core/frame.py:2973\u001b[0m, in \u001b[0;36mDataFrame.to_parquet\u001b[0;34m(self, path, engine, compression, index, partition_cols, storage_options, **kwargs)\u001b[0m\n\u001b[1;32m   2885\u001b[0m \u001b[38;5;250m\u001b[39m\u001b[38;5;124;03m\"\"\"\u001b[39;00m\n\u001b[1;32m   2886\u001b[0m \u001b[38;5;124;03mWrite a DataFrame to the binary parquet format.\u001b[39;00m\n\u001b[1;32m   2887\u001b[0m \n\u001b[0;32m   (...)\u001b[0m\n\u001b[1;32m   2969\u001b[0m \u001b[38;5;124;03m>>> content = f.read()\u001b[39;00m\n\u001b[1;32m   2970\u001b[0m \u001b[38;5;124;03m\"\"\"\u001b[39;00m\n\u001b[1;32m   2971\u001b[0m \u001b[38;5;28;01mfrom\u001b[39;00m \u001b[38;5;21;01mpandas\u001b[39;00m\u001b[38;5;21;01m.\u001b[39;00m\u001b[38;5;21;01mio\u001b[39;00m\u001b[38;5;21;01m.\u001b[39;00m\u001b[38;5;21;01mparquet\u001b[39;00m \u001b[38;5;28;01mimport\u001b[39;00m to_parquet\n\u001b[0;32m-> 2973\u001b[0m \u001b[38;5;28;01mreturn\u001b[39;00m \u001b[43mto_parquet\u001b[49m\u001b[43m(\u001b[49m\n\u001b[1;32m   2974\u001b[0m \u001b[43m    \u001b[49m\u001b[38;5;28;43mself\u001b[39;49m\u001b[43m,\u001b[49m\n\u001b[1;32m   2975\u001b[0m \u001b[43m    \u001b[49m\u001b[43mpath\u001b[49m\u001b[43m,\u001b[49m\n\u001b[1;32m   2976\u001b[0m \u001b[43m    \u001b[49m\u001b[43mengine\u001b[49m\u001b[43m,\u001b[49m\n\u001b[1;32m   2977\u001b[0m \u001b[43m    \u001b[49m\u001b[43mcompression\u001b[49m\u001b[38;5;241;43m=\u001b[39;49m\u001b[43mcompression\u001b[49m\u001b[43m,\u001b[49m\n\u001b[1;32m   2978\u001b[0m \u001b[43m    \u001b[49m\u001b[43mindex\u001b[49m\u001b[38;5;241;43m=\u001b[39;49m\u001b[43mindex\u001b[49m\u001b[43m,\u001b[49m\n\u001b[1;32m   2979\u001b[0m \u001b[43m    \u001b[49m\u001b[43mpartition_cols\u001b[49m\u001b[38;5;241;43m=\u001b[39;49m\u001b[43mpartition_cols\u001b[49m\u001b[43m,\u001b[49m\n\u001b[1;32m   2980\u001b[0m \u001b[43m    \u001b[49m\u001b[43mstorage_options\u001b[49m\u001b[38;5;241;43m=\u001b[39;49m\u001b[43mstorage_options\u001b[49m\u001b[43m,\u001b[49m\n\u001b[1;32m   2981\u001b[0m \u001b[43m    \u001b[49m\u001b[38;5;241;43m*\u001b[39;49m\u001b[38;5;241;43m*\u001b[39;49m\u001b[43mkwargs\u001b[49m\u001b[43m,\u001b[49m\n\u001b[1;32m   2982\u001b[0m \u001b[43m\u001b[49m\u001b[43m)\u001b[49m\n",
      "File \u001b[0;32m~/PycharmProjects/py-understanding/venv/lib/python3.10/site-packages/pandas/io/parquet.py:479\u001b[0m, in \u001b[0;36mto_parquet\u001b[0;34m(df, path, engine, compression, index, storage_options, partition_cols, filesystem, **kwargs)\u001b[0m\n\u001b[1;32m    477\u001b[0m \u001b[38;5;28;01mif\u001b[39;00m \u001b[38;5;28misinstance\u001b[39m(partition_cols, \u001b[38;5;28mstr\u001b[39m):\n\u001b[1;32m    478\u001b[0m     partition_cols \u001b[38;5;241m=\u001b[39m [partition_cols]\n\u001b[0;32m--> 479\u001b[0m impl \u001b[38;5;241m=\u001b[39m \u001b[43mget_engine\u001b[49m\u001b[43m(\u001b[49m\u001b[43mengine\u001b[49m\u001b[43m)\u001b[49m\n\u001b[1;32m    481\u001b[0m path_or_buf: FilePath \u001b[38;5;241m|\u001b[39m WriteBuffer[\u001b[38;5;28mbytes\u001b[39m] \u001b[38;5;241m=\u001b[39m io\u001b[38;5;241m.\u001b[39mBytesIO() \u001b[38;5;28;01mif\u001b[39;00m path \u001b[38;5;129;01mis\u001b[39;00m \u001b[38;5;28;01mNone\u001b[39;00m \u001b[38;5;28;01melse\u001b[39;00m path\n\u001b[1;32m    483\u001b[0m impl\u001b[38;5;241m.\u001b[39mwrite(\n\u001b[1;32m    484\u001b[0m     df,\n\u001b[1;32m    485\u001b[0m     path_or_buf,\n\u001b[0;32m   (...)\u001b[0m\n\u001b[1;32m    491\u001b[0m     \u001b[38;5;241m*\u001b[39m\u001b[38;5;241m*\u001b[39mkwargs,\n\u001b[1;32m    492\u001b[0m )\n",
      "File \u001b[0;32m~/PycharmProjects/py-understanding/venv/lib/python3.10/site-packages/pandas/io/parquet.py:66\u001b[0m, in \u001b[0;36mget_engine\u001b[0;34m(engine)\u001b[0m\n\u001b[1;32m     63\u001b[0m         \u001b[38;5;28;01mexcept\u001b[39;00m \u001b[38;5;167;01mImportError\u001b[39;00m \u001b[38;5;28;01mas\u001b[39;00m err:\n\u001b[1;32m     64\u001b[0m             error_msgs \u001b[38;5;241m+\u001b[39m\u001b[38;5;241m=\u001b[39m \u001b[38;5;124m\"\u001b[39m\u001b[38;5;130;01m\\n\u001b[39;00m\u001b[38;5;124m - \u001b[39m\u001b[38;5;124m\"\u001b[39m \u001b[38;5;241m+\u001b[39m \u001b[38;5;28mstr\u001b[39m(err)\n\u001b[0;32m---> 66\u001b[0m     \u001b[38;5;28;01mraise\u001b[39;00m \u001b[38;5;167;01mImportError\u001b[39;00m(\n\u001b[1;32m     67\u001b[0m         \u001b[38;5;124m\"\u001b[39m\u001b[38;5;124mUnable to find a usable engine; \u001b[39m\u001b[38;5;124m\"\u001b[39m\n\u001b[1;32m     68\u001b[0m         \u001b[38;5;124m\"\u001b[39m\u001b[38;5;124mtried using: \u001b[39m\u001b[38;5;124m'\u001b[39m\u001b[38;5;124mpyarrow\u001b[39m\u001b[38;5;124m'\u001b[39m\u001b[38;5;124m, \u001b[39m\u001b[38;5;124m'\u001b[39m\u001b[38;5;124mfastparquet\u001b[39m\u001b[38;5;124m'\u001b[39m\u001b[38;5;124m.\u001b[39m\u001b[38;5;130;01m\\n\u001b[39;00m\u001b[38;5;124m\"\u001b[39m\n\u001b[1;32m     69\u001b[0m         \u001b[38;5;124m\"\u001b[39m\u001b[38;5;124mA suitable version of \u001b[39m\u001b[38;5;124m\"\u001b[39m\n\u001b[1;32m     70\u001b[0m         \u001b[38;5;124m\"\u001b[39m\u001b[38;5;124mpyarrow or fastparquet is required for parquet \u001b[39m\u001b[38;5;124m\"\u001b[39m\n\u001b[1;32m     71\u001b[0m         \u001b[38;5;124m\"\u001b[39m\u001b[38;5;124msupport.\u001b[39m\u001b[38;5;130;01m\\n\u001b[39;00m\u001b[38;5;124m\"\u001b[39m\n\u001b[1;32m     72\u001b[0m         \u001b[38;5;124m\"\u001b[39m\u001b[38;5;124mTrying to import the above resulted in these errors:\u001b[39m\u001b[38;5;124m\"\u001b[39m\n\u001b[1;32m     73\u001b[0m         \u001b[38;5;124mf\u001b[39m\u001b[38;5;124m\"\u001b[39m\u001b[38;5;132;01m{\u001b[39;00merror_msgs\u001b[38;5;132;01m}\u001b[39;00m\u001b[38;5;124m\"\u001b[39m\n\u001b[1;32m     74\u001b[0m     )\n\u001b[1;32m     76\u001b[0m \u001b[38;5;28;01mif\u001b[39;00m engine \u001b[38;5;241m==\u001b[39m \u001b[38;5;124m\"\u001b[39m\u001b[38;5;124mpyarrow\u001b[39m\u001b[38;5;124m\"\u001b[39m:\n\u001b[1;32m     77\u001b[0m     \u001b[38;5;28;01mreturn\u001b[39;00m PyArrowImpl()\n",
      "\u001b[0;31mImportError\u001b[0m: Unable to find a usable engine; tried using: 'pyarrow', 'fastparquet'.\nA suitable version of pyarrow or fastparquet is required for parquet support.\nTrying to import the above resulted in these errors:\n - Missing optional dependency 'pyarrow'. pyarrow is required for parquet support. Use pip or conda to install pyarrow.\n - Missing optional dependency 'fastparquet'. fastparquet is required for parquet support. Use pip or conda to install fastparquet."
     ]
    }
   ],
   "source": [
    "# Save final df\n",
    "df.to_parquet(str(product['data']), index=False)"
   ]
  }
 ],
 "metadata": {
  "jupytext": {
   "cell_metadata_filter": "tags,-all",
   "main_language": "python",
   "notebook_metadata_filter": "-all",
   "text_representation": {
    "extension": ".py",
    "format_name": "percent"
   }
  },
  "kernelspec": {
   "display_name": "Python 3 (ipykernel)",
   "language": "python",
   "name": "python3"
  },
  "language_info": {
   "codemirror_mode": {
    "name": "ipython",
    "version": 3
   },
   "file_extension": ".py",
   "mimetype": "text/x-python",
   "name": "python",
   "nbconvert_exporter": "python",
   "pygments_lexer": "ipython3",
   "version": "3.10.12"
  },
  "papermill": {
   "duration": 1.913779,
   "end_time": "2023-09-19T12:04:07.819883",
   "exception": true,
   "input_path": "/tmp/tmpr0mdlh68.ipynb",
   "output_path": "/home/luiscberrocal/PycharmProjects/py-understanding/python_libs/ploomber/guides/first-pipeline/output/3-clean.ipynb",
   "parameters": {
    "product": {
     "data": "/home/luiscberrocal/PycharmProjects/py-understanding/python_libs/ploomber/guides/first-pipeline/output/clean_data.parquet",
     "nb": "/home/luiscberrocal/PycharmProjects/py-understanding/python_libs/ploomber/guides/first-pipeline/output/3-clean.html"
    },
    "upstream": {
     "1-get": {
      "data": "/home/luiscberrocal/PycharmProjects/py-understanding/python_libs/ploomber/guides/first-pipeline/output/raw_data.csv",
      "nb": "/home/luiscberrocal/PycharmProjects/py-understanding/python_libs/ploomber/guides/first-pipeline/output/1-get.html"
     }
    }
   },
   "start_time": "2023-09-19T12:04:05.906104"
  }
 },
 "nbformat": 4,
 "nbformat_minor": 5
}